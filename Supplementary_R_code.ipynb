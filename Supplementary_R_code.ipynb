{
 "cells": [
  {
   "cell_type": "markdown",
   "metadata": {},
   "source": [
    "# \"Distinct chromosomal niches in the genome of S. cerevisiae provide the background for genomic innovation and shape the fate of gene duplicates\"\n",
    "## Supporting R Code"
   ]
  },
  {
   "cell_type": "markdown",
   "metadata": {},
   "source": [
    "### Loading Libraries"
   ]
  },
  {
   "cell_type": "code",
   "execution_count": 1,
   "metadata": {},
   "outputs": [
    {
     "name": "stderr",
     "output_type": "stream",
     "text": [
      "Loading required package: grid\n",
      "\n",
      "Loading required package: libcoin\n",
      "\n",
      "Loading required package: mvtnorm\n",
      "\n",
      "\n",
      "Attaching package: ‘gplots’\n",
      "\n",
      "\n",
      "The following object is masked from ‘package:stats’:\n",
      "\n",
      "    lowess\n",
      "\n",
      "\n",
      "randomForest 4.6-14\n",
      "\n",
      "Type rfNews() to see new features/changes/bug fixes.\n",
      "\n",
      "Loading required package: ggplot2\n",
      "\n",
      "\n",
      "Attaching package: ‘ggplot2’\n",
      "\n",
      "\n",
      "The following object is masked from ‘package:randomForest’:\n",
      "\n",
      "    margin\n",
      "\n",
      "\n",
      "Loading required package: Matrix\n",
      "\n",
      "\n",
      "Attaching package: ‘arules’\n",
      "\n",
      "\n",
      "The following objects are masked from ‘package:base’:\n",
      "\n",
      "    abbreviate, write\n",
      "\n",
      "\n",
      "Loading required package: survival\n",
      "\n",
      "Loading required package: TH.data\n",
      "\n",
      "\n",
      "Attaching package: ‘TH.data’\n",
      "\n",
      "\n",
      "The following object is masked from ‘package:MASS’:\n",
      "\n",
      "    geyser\n",
      "\n",
      "\n"
     ]
    }
   ],
   "source": [
    "library(partykit)\n",
    "library(gplots)\n",
    "library(rpart)\n",
    "library(rpart.plot)\n",
    "library(MASS)\n",
    "library(stats)\n",
    "library(randomForest)\n",
    "library(ggfortify)\n",
    "library(ggplot2)\n",
    "library(RColorBrewer)\n",
    "library(arules)\n",
    "library(arulesViz)\n",
    "library(knitr)\n",
    "library(gProfileR)\n",
    "library(multcomp)\n",
    "library(NbClust)\n",
    "library(beanplot)\n",
    "library(ggpubr)\n",
    "library(ggtext)\n",
    "library(ggrepel)"
   ]
  },
  {
   "cell_type": "markdown",
   "metadata": {},
   "source": [
    "### Loading Files"
   ]
  },
  {
   "cell_type": "code",
   "execution_count": 3,
   "metadata": {},
   "outputs": [
    {
     "data": {
      "text/html": [
       "<table class=\"dataframe\">\n",
       "<caption>A data.frame: 6 × 7</caption>\n",
       "<thead>\n",
       "\t<tr><th></th><th scope=col>X1</th><th scope=col>chrI</th><th scope=col>X334</th><th scope=col>X649</th><th scope=col>YAL069W</th><th scope=col>YAL069W.1</th><th scope=col>X.</th></tr>\n",
       "\t<tr><th></th><th scope=col>&lt;int&gt;</th><th scope=col>&lt;fct&gt;</th><th scope=col>&lt;int&gt;</th><th scope=col>&lt;int&gt;</th><th scope=col>&lt;fct&gt;</th><th scope=col>&lt;fct&gt;</th><th scope=col>&lt;fct&gt;</th></tr>\n",
       "</thead>\n",
       "<tbody>\n",
       "\t<tr><th scope=row>1</th><td>2</td><td>chrI</td><td>  537</td><td>  792</td><td>YAL068W-A</td><td>YAL068W-A</td><td>+</td></tr>\n",
       "\t<tr><th scope=row>2</th><td>3</td><td>chrI</td><td> 1806</td><td> 2169</td><td>YAL068C  </td><td>PAU8     </td><td>-</td></tr>\n",
       "\t<tr><th scope=row>3</th><td>4</td><td>chrI</td><td> 2479</td><td> 2707</td><td>YAL067W-A</td><td>YAL067W-A</td><td>+</td></tr>\n",
       "\t<tr><th scope=row>4</th><td>5</td><td>chrI</td><td> 7235</td><td> 9017</td><td>YAL067C  </td><td>SEO1     </td><td>-</td></tr>\n",
       "\t<tr><th scope=row>5</th><td>6</td><td>chrI</td><td> 9591</td><td>10194</td><td>YAL066W  </td><td>YAL066W  </td><td>+</td></tr>\n",
       "\t<tr><th scope=row>6</th><td>7</td><td>chrI</td><td>11565</td><td>11952</td><td>YAL065C  </td><td>YAL065C  </td><td>-</td></tr>\n",
       "</tbody>\n",
       "</table>\n"
      ],
      "text/latex": [
       "A data.frame: 6 × 7\n",
       "\\begin{tabular}{r|lllllll}\n",
       "  & X1 & chrI & X334 & X649 & YAL069W & YAL069W.1 & X.\\\\\n",
       "  & <int> & <fct> & <int> & <int> & <fct> & <fct> & <fct>\\\\\n",
       "\\hline\n",
       "\t1 & 2 & chrI &   537 &   792 & YAL068W-A & YAL068W-A & +\\\\\n",
       "\t2 & 3 & chrI &  1806 &  2169 & YAL068C   & PAU8      & -\\\\\n",
       "\t3 & 4 & chrI &  2479 &  2707 & YAL067W-A & YAL067W-A & +\\\\\n",
       "\t4 & 5 & chrI &  7235 &  9017 & YAL067C   & SEO1      & -\\\\\n",
       "\t5 & 6 & chrI &  9591 & 10194 & YAL066W   & YAL066W   & +\\\\\n",
       "\t6 & 7 & chrI & 11565 & 11952 & YAL065C   & YAL065C   & -\\\\\n",
       "\\end{tabular}\n"
      ],
      "text/markdown": [
       "\n",
       "A data.frame: 6 × 7\n",
       "\n",
       "| <!--/--> | X1 &lt;int&gt; | chrI &lt;fct&gt; | X334 &lt;int&gt; | X649 &lt;int&gt; | YAL069W &lt;fct&gt; | YAL069W.1 &lt;fct&gt; | X. &lt;fct&gt; |\n",
       "|---|---|---|---|---|---|---|---|\n",
       "| 1 | 2 | chrI |   537 |   792 | YAL068W-A | YAL068W-A | + |\n",
       "| 2 | 3 | chrI |  1806 |  2169 | YAL068C   | PAU8      | - |\n",
       "| 3 | 4 | chrI |  2479 |  2707 | YAL067W-A | YAL067W-A | + |\n",
       "| 4 | 5 | chrI |  7235 |  9017 | YAL067C   | SEO1      | - |\n",
       "| 5 | 6 | chrI |  9591 | 10194 | YAL066W   | YAL066W   | + |\n",
       "| 6 | 7 | chrI | 11565 | 11952 | YAL065C   | YAL065C   | - |\n",
       "\n"
      ],
      "text/plain": [
       "  X1 chrI X334  X649  YAL069W   YAL069W.1 X.\n",
       "1 2  chrI   537   792 YAL068W-A YAL068W-A + \n",
       "2 3  chrI  1806  2169 YAL068C   PAU8      - \n",
       "3 4  chrI  2479  2707 YAL067W-A YAL067W-A + \n",
       "4 5  chrI  7235  9017 YAL067C   SEO1      - \n",
       "5 6  chrI  9591 10194 YAL066W   YAL066W   + \n",
       "6 7  chrI 11565 11952 YAL065C   YAL065C   - "
      ]
     },
     "metadata": {},
     "output_type": "display_data"
    }
   ],
   "source": [
    "geneCoords<-read.delim(\"files/sacCer2_gene_coordinates.bed\", header=T, sep=\"\\t\")\n",
    "geneCoords3D<-read.delim(\"files/sacCer2_3D_gene_coordinates.bed\", header=T, sep=\"\\t\")\n",
    "<-read.delim(\"files/sacCer2_3D_gene_coordinates.bed\", header=T, sep=\"\\t\")\n",
    "geneCoords3D<-read.delim(\"files/sacCer2_3D_gene_coordinates.bed\", header=T, sep=\"\\t\")\n",
    "geneCoords3D<-read.delim(\"files/sacCer2_3D_gene_coordinates.bed\", header=T, sep=\"\\t\")\n",
    "geneCoords3D<-read.delim(\"files/sacCer2_3D_gene_coordinates.bed\", header=T, sep=\"\\t\")\n",
    "geneCoords3D<-read.delim(\"files/sacCer2_3D_gene_coordinates.bed\", header=T, sep=\"\\t\")\n",
    "geneCoords3D<-read.delim(\"files/sacCer2_3D_gene_coordinates.bed\", header=T, sep=\"\\t\")\n",
    "geneCoords3D<-read.delim(\"files/sacCer2_3D_gene_coordinates.bed\", header=T, sep=\"\\t\")\n",
    "geneCoords3D<-read.delim(\"files/sacCer2_3D_gene_coordinates.bed\", header=T, sep=\"\\t\")\n"
   ]
  }
 ],
 "metadata": {
  "kernelspec": {
   "display_name": "R",
   "language": "R",
   "name": "ir"
  },
  "language_info": {
   "codemirror_mode": "r",
   "file_extension": ".r",
   "mimetype": "text/x-r-source",
   "name": "R",
   "pygments_lexer": "r",
   "version": "3.6.3"
  },
  "orig_nbformat": 4
 },
 "nbformat": 4,
 "nbformat_minor": 2
}
