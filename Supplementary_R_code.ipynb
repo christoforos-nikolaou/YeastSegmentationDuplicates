{
 "cells": [
  {
   "cell_type": "markdown",
   "metadata": {},
   "source": [
    "## \"Distinct chromosomal niches in the genome of S. cerevisiae provide the background for genomic innovation and shape the fate of gene duplicates\"\n",
    "### Supporting R Code"
   ]
  },
  {
   "cell_type": "markdown",
   "metadata": {},
   "source": [
    "### Loading Libraries"
   ]
  },
  {
   "cell_type": "code",
   "execution_count": 19,
   "metadata": {},
   "outputs": [
    {
     "name": "stderr",
     "output_type": "stream",
     "text": [
      "Warning message:\n",
      "\"package 'partykit' was built under R version 4.0.5\"\n",
      "Loading required package: grid\n",
      "\n",
      "Loading required package: libcoin\n",
      "\n",
      "Warning message:\n",
      "\"package 'libcoin' was built under R version 4.0.5\"\n",
      "Loading required package: mvtnorm\n",
      "\n",
      "Warning message:\n",
      "\"package 'mvtnorm' was built under R version 4.0.5\"\n",
      "\n",
      "Attaching package: 'gplots'\n",
      "\n",
      "\n",
      "The following object is masked from 'package:stats':\n",
      "\n",
      "    lowess\n",
      "\n",
      "\n",
      "Warning message:\n",
      "\"package 'rpart' was built under R version 4.0.5\"\n",
      "Warning message:\n",
      "\"package 'rpart.plot' was built under R version 4.0.5\"\n",
      "Warning message:\n",
      "\"package 'MASS' was built under R version 4.0.5\"\n",
      "randomForest 4.6-14\n",
      "\n",
      "Type rfNews() to see new features/changes/bug fixes.\n",
      "\n",
      "Warning message:\n",
      "\"package 'ggfortify' was built under R version 4.0.5\"\n",
      "Loading required package: ggplot2\n",
      "\n",
      "Warning message:\n",
      "\"package 'ggplot2' was built under R version 4.0.5\"\n",
      "\n",
      "Attaching package: 'ggplot2'\n",
      "\n",
      "\n",
      "The following object is masked from 'package:randomForest':\n",
      "\n",
      "    margin\n",
      "\n",
      "\n",
      "Warning message:\n",
      "\"package 'arules' was built under R version 4.0.5\"\n",
      "Loading required package: Matrix\n",
      "\n",
      "Warning message:\n",
      "\"package 'Matrix' was built under R version 4.0.5\"\n",
      "\n",
      "Attaching package: 'arules'\n",
      "\n",
      "\n",
      "The following objects are masked from 'package:base':\n",
      "\n",
      "    abbreviate, write\n",
      "\n",
      "\n",
      "Warning message:\n",
      "\"package 'arulesViz' was built under R version 4.0.5\"\n",
      "Warning message:\n",
      "\"package 'knitr' was built under R version 4.0.5\"\n",
      "Warning message:\n",
      "\"package 'multcomp' was built under R version 4.0.5\"\n",
      "Loading required package: survival\n",
      "\n",
      "Warning message:\n",
      "\"package 'survival' was built under R version 4.0.5\"\n",
      "Loading required package: TH.data\n",
      "\n",
      "Warning message:\n",
      "\"package 'TH.data' was built under R version 4.0.5\"\n",
      "\n",
      "Attaching package: 'TH.data'\n",
      "\n",
      "\n",
      "The following object is masked from 'package:MASS':\n",
      "\n",
      "    geyser\n",
      "\n",
      "\n",
      "Warning message:\n",
      "\"package 'ggtext' was built under R version 4.0.5\"\n",
      "Warning message:\n",
      "\"package 'ggrepel' was built under R version 4.0.5\"\n"
     ]
    }
   ],
   "source": [
    "library(partykit)\n",
    "library(gplots)\n",
    "library(rpart)\n",
    "library(rpart.plot)\n",
    "library(MASS)\n",
    "library(stats)\n",
    "library(randomForest)\n",
    "library(ggfortify)\n",
    "library(ggplot2)\n",
    "library(RColorBrewer)\n",
    "library(arules)\n",
    "library(arulesViz)\n",
    "library(knitr)\n",
    "library(gProfileR)\n",
    "library(multcomp)\n",
    "library(NbClust)\n",
    "library(beanplot)\n",
    "library(ggpubr)\n",
    "library(ggtext)\n",
    "library(ggrepel)"
   ]
  },
  {
   "cell_type": "markdown",
   "metadata": {},
   "source": [
    "### Genome Segmentation\n",
    "In the following we create a \"domainogram\" plot from the SSD/WGD clusters. SSD(red), WGD(green), Complement(grey)."
   ]
  },
  {
   "cell_type": "code",
   "execution_count": 16,
   "metadata": {},
   "outputs": [
    {
     "data": {
      "image/png": "[encoded data removed]",
      "text/plain": [
       "Plot with title \"Duplicate Gene Clusters\""
      ]
     },
     "metadata": {
      "image/png": {
       "height": 420,
       "width": 420
      }
     },
     "output_type": "display_data"
    }
   ],
   "source": [
    "geneCoords<-read.delim(\"files/sacCer2_gene_coordinates.bed\", header=T, sep=\"\\t\")\n",
    "geneCoords3D<-read.delim(\"files/sacCer2_3D_gene_coordinates.bed\", header=T, sep=\"\\t\")\n",
    "ssdclusters<-read.delim(\"files/sacCer2_SSD_clusters.bed\", header=F, sep=\"\\t\")\n",
    "wgdclusters<-read.delim(\"files/sacCer2_WGD_clusters.bed\", header=F, sep=\"\\t\")\n",
    "complementclusters<-read.delim(\"files/sacCer2_Complement_clusters.bed\", header=T, sep=\"\\t\")\n",
    "#\n",
    "source(\"R-functions/yeastgenomeplot.R\")\n",
    "chromosomes<-read.table(\"files/saccer2_R.genome\")[,1:4]\n",
    "# Assigning different scores to SSD/WGD for color representation\n",
    "ssdclusters[,4]<-3\n",
    "wgdclusters[,4]<--3\n",
    "# joining two types of clusters in one table\n",
    "bothssdwgdclusters<-rbind(ssdclusters, wgdclusters)\n",
    "# Selecting large clusters for representation\n",
    "i<-which(bothssdwgdclusters[,3]-bothssdwgdclusters[,2]>10000)\n",
    "yeast.genome.plot(chromosomes, bothssdwgdclusters[i,], \"Duplicate Gene Clusters\", \"firebrick4\", \"olivedrab\")\n"
   ]
  },
  {
   "cell_type": "markdown",
   "metadata": {},
   "source": [
    "### Distances on the same chromosome\n",
    "Difference in distances on the same chromosome"
   ]
  },
  {
   "cell_type": "code",
   "execution_count": 20,
   "metadata": {},
   "outputs": [
    {
     "name": "stderr",
     "output_type": "stream",
     "text": [
      "Warning message:\n",
      "\"Removed 942 rows containing non-finite values (stat_boxplot).\"\n",
      "Warning message:\n",
      "\"Removed 942 rows containing non-finite values (stat_compare_means).\"\n"
     ]
    },
    {
     "data": {
      "image/png": "[encoded data removed]",
      "text/plain": [
       "plot without title"
      ]
     },
     "metadata": {
      "image/png": {
       "height": 420,
       "width": 420
      }
     },
     "output_type": "display_data"
    }
   ],
   "source": [
    "completedata<-read.delim(\"files/Yeast_GeneDuplicates_FullComparisons.tsv\", header=T, sep=\"\\t\")\n",
    "my_comparisons <- list(c(\"SSD\", \"WGD\"))\n",
    "completedata$logdist<-log10(completedata$dist)\n",
    "bplot<-ggboxplot(completedata, x = \"Type\", y = \"logdist\", fill=\"Type\", title=\"Distance on same chromosome\", palette = c(\"firebrick4\",  \"olivedrab\"))+ stat_compare_means() + labs(x=\"Duplicate Gene Type\", y=\"log10(distance)\")\n",
    "bplot\n"
   ]
  },
  {
   "cell_type": "markdown",
   "metadata": {},
   "source": [
    "### Distribution on same/different chromosome\n"
   ]
  },
  {
   "cell_type": "code",
   "execution_count": 24,
   "metadata": {},
   "outputs": [
    {
     "data": {
      "text/plain": [
       "      \n",
       "       SSD WGD\n",
       "  DIFF 423 518\n",
       "  SAME  86  27"
      ]
     },
     "metadata": {},
     "output_type": "display_data"
    },
    {
     "data": {
      "image/png": "[encoded data removed]",
      "text/plain": [
       "plot without title"
      ]
     },
     "metadata": {
      "image/png": {
       "height": 420,
       "width": 420
      }
     },
     "output_type": "display_data"
    }
   ],
   "source": [
    "fdata<-read.delim(\"files/Yeast_GeneDuplicates_FullComparisons.tsv\", header=T, sep=\"\\t\")\n",
    "table(fdata$Chrom_Dist, fdata$Type)\n",
    "df2<-data.frame(\"GeneType\"=c(rep(\"SSD\",2), rep(\"WGD\",2)), \"Chromosome\"=rep(c(\"Same\", \"Different\"),2), \"Number of Pairs\"=c(88,428,27,518))\n",
    "ggplot(data=df2, aes(x=GeneType, y=Number.of.Pairs, fill=Chromosome)) +\n",
    "geom_bar(stat=\"identity\") + scale_fill_manual(values = c(\"cornflowerblue\",\"darkorange4\")) + labs(title = \"Duplicate Pairs in Chromosomes\", x=\"Duplicate Gene Type\", y = \"Number of Pairs\") + geom_text(label=\"chi-square p = 4.4e-10\", x = 1.5, y = 560, size = 3)\n"
   ]
  }
 ],
 "metadata": {
  "kernelspec": {
   "display_name": "R",
   "language": "R",
   "name": "ir"
  },
  "language_info": {
   "codemirror_mode": "r",
   "file_extension": ".r",
   "mimetype": "text/x-r-source",
   "name": "R",
   "pygments_lexer": "r",
   "version": "4.0.3"
  },
  "orig_nbformat": 4
 },
 "nbformat": 4,
 "nbformat_minor": 2
}
